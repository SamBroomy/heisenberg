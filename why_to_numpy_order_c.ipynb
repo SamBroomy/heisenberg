{
 "cells": [
  {
   "cell_type": "code",
   "execution_count": 1,
   "metadata": {},
   "outputs": [],
   "source": [
    "import polars as pl\n",
    "\n",
    "from usearch.index import Index, Matches\n",
    "import numpy as np"
   ]
  },
  {
   "cell_type": "code",
   "execution_count": 2,
   "metadata": {},
   "outputs": [
    {
     "data": {
      "text/html": [
       "<div><style>\n",
       ".dataframe > thead > tr,\n",
       ".dataframe > tbody > tr {\n",
       "  text-align: right;\n",
       "  white-space: pre-wrap;\n",
       "}\n",
       "</style>\n",
       "<small>shape: (12_660_854, 19)</small><table border=\"1\" class=\"dataframe\"><thead><tr><th>geonameid</th><th>name</th><th>asciiname</th><th>alternatenames</th><th>latitude</th><th>longitude</th><th>feature_class</th><th>feature_code</th><th>country_code</th><th>cc2</th><th>admin1_code</th><th>admin2_code</th><th>admin3_code</th><th>admin4_code</th><th>population</th><th>elevation</th><th>dem</th><th>timezone</th><th>modification_date</th></tr><tr><td>u32</td><td>str</td><td>str</td><td>str</td><td>f32</td><td>f32</td><td>str</td><td>str</td><td>str</td><td>str</td><td>str</td><td>str</td><td>str</td><td>str</td><td>i64</td><td>i32</td><td>i32</td><td>str</td><td>datetime[μs]</td></tr></thead><tbody><tr><td>2994701</td><td>&quot;Roc Meler&quot;</td><td>&quot;Roc Meler&quot;</td><td>&quot;Roc Mele,Roc Meler,Roc Mélé&quot;</td><td>42.58765</td><td>1.7418</td><td>&quot;T&quot;</td><td>&quot;PK&quot;</td><td>&quot;AD&quot;</td><td>&quot;AD,FR&quot;</td><td>&quot;02&quot;</td><td>null</td><td>null</td><td>null</td><td>0</td><td>2811</td><td>2348</td><td>&quot;Europe/Andorra&quot;</td><td>2023-10-03 00:00:00</td></tr><tr><td>3017832</td><td>&quot;Pic de les Abelletes&quot;</td><td>&quot;Pic de les Abelletes&quot;</td><td>&quot;Pic de la Font-Negre,Pic de la…</td><td>42.525349</td><td>1.73343</td><td>&quot;T&quot;</td><td>&quot;PK&quot;</td><td>&quot;AD&quot;</td><td>&quot;FR&quot;</td><td>&quot;A9&quot;</td><td>&quot;66&quot;</td><td>&quot;663&quot;</td><td>&quot;66146&quot;</td><td>0</td><td>null</td><td>2411</td><td>&quot;Europe/Andorra&quot;</td><td>2014-11-05 00:00:00</td></tr><tr><td>3017833</td><td>&quot;Estany de les Abelletes&quot;</td><td>&quot;Estany de les Abelletes&quot;</td><td>&quot;Estany de les Abelletes,Etang …</td><td>42.529148</td><td>1.73362</td><td>&quot;H&quot;</td><td>&quot;LK&quot;</td><td>&quot;AD&quot;</td><td>&quot;FR&quot;</td><td>&quot;A9&quot;</td><td>null</td><td>null</td><td>null</td><td>0</td><td>null</td><td>2260</td><td>&quot;Europe/Andorra&quot;</td><td>2014-11-05 00:00:00</td></tr><tr><td>3023203</td><td>&quot;Port Vieux de la Coume d’Ose&quot;</td><td>&quot;Port Vieux de la Coume d&#x27;Ose&quot;</td><td>&quot;Port Vieux de Coume d&#x27;Ose,Port…</td><td>42.625679</td><td>1.61823</td><td>&quot;T&quot;</td><td>&quot;PASS&quot;</td><td>&quot;AD&quot;</td><td>null</td><td>&quot;00&quot;</td><td>null</td><td>null</td><td>null</td><td>0</td><td>null</td><td>2687</td><td>&quot;Europe/Andorra&quot;</td><td>2014-11-05 00:00:00</td></tr><tr><td>3029315</td><td>&quot;Port de la Cabanette&quot;</td><td>&quot;Port de la Cabanette&quot;</td><td>&quot;Port de la Cabanette,Porteille…</td><td>42.599998</td><td>1.73333</td><td>&quot;T&quot;</td><td>&quot;PASS&quot;</td><td>&quot;AD&quot;</td><td>&quot;AD,FR&quot;</td><td>&quot;B3&quot;</td><td>&quot;09&quot;</td><td>&quot;091&quot;</td><td>&quot;09139&quot;</td><td>0</td><td>null</td><td>2379</td><td>&quot;Europe/Andorra&quot;</td><td>2014-11-05 00:00:00</td></tr><tr><td>&hellip;</td><td>&hellip;</td><td>&hellip;</td><td>&hellip;</td><td>&hellip;</td><td>&hellip;</td><td>&hellip;</td><td>&hellip;</td><td>&hellip;</td><td>&hellip;</td><td>&hellip;</td><td>&hellip;</td><td>&hellip;</td><td>&hellip;</td><td>&hellip;</td><td>&hellip;</td><td>&hellip;</td><td>&hellip;</td><td>&hellip;</td></tr><tr><td>12808977</td><td>&quot;Lilly Canyon&quot;</td><td>&quot;Lilly Canyon&quot;</td><td>null</td><td>44.816669</td><td>-48.716671</td><td>&quot;U&quot;</td><td>&quot;CNYU&quot;</td><td>null</td><td>null</td><td>&quot;00&quot;</td><td>null</td><td>null</td><td>null</td><td>0</td><td>null</td><td>-9999</td><td>null</td><td>2024-05-15 00:00:00</td></tr><tr><td>12808978</td><td>&quot;Kettle Canyon&quot;</td><td>&quot;Kettle Canyon&quot;</td><td>null</td><td>44.098888</td><td>-49.211681</td><td>&quot;U&quot;</td><td>&quot;CNYU&quot;</td><td>null</td><td>null</td><td>&quot;00&quot;</td><td>null</td><td>null</td><td>null</td><td>0</td><td>null</td><td>-9999</td><td>null</td><td>2024-05-15 00:00:00</td></tr><tr><td>12808979</td><td>&quot;Guy Canyon&quot;</td><td>&quot;Guy Canyon&quot;</td><td>null</td><td>43.383331</td><td>-49.049999</td><td>&quot;U&quot;</td><td>&quot;CNYU&quot;</td><td>null</td><td>null</td><td>&quot;00&quot;</td><td>null</td><td>null</td><td>null</td><td>0</td><td>null</td><td>-9999</td><td>null</td><td>2024-05-15 00:00:00</td></tr><tr><td>12808980</td><td>&quot;Carson Canyon&quot;</td><td>&quot;Carson Canyon&quot;</td><td>null</td><td>45.383331</td><td>-48.400002</td><td>&quot;U&quot;</td><td>&quot;CNYU&quot;</td><td>null</td><td>null</td><td>&quot;00&quot;</td><td>null</td><td>null</td><td>null</td><td>0</td><td>null</td><td>-9999</td><td>null</td><td>2024-05-15 00:00:00</td></tr><tr><td>12808981</td><td>&quot;Beaufort Shelf&quot;</td><td>&quot;Beaufort Shelf&quot;</td><td>null</td><td>70.383331</td><td>-135.75</td><td>&quot;U&quot;</td><td>&quot;SHFU&quot;</td><td>null</td><td>null</td><td>&quot;00&quot;</td><td>null</td><td>null</td><td>null</td><td>0</td><td>null</td><td>-9999</td><td>null</td><td>2024-05-15 00:00:00</td></tr></tbody></table></div>"
      ],
      "text/plain": [
       "shape: (12_660_854, 19)\n",
       "┌───────────┬────────────┬────────────┬────────────┬───┬───────────┬───────┬───────────┬───────────┐\n",
       "│ geonameid ┆ name       ┆ asciiname  ┆ alternaten ┆ … ┆ elevation ┆ dem   ┆ timezone  ┆ modificat │\n",
       "│ ---       ┆ ---        ┆ ---        ┆ ames       ┆   ┆ ---       ┆ ---   ┆ ---       ┆ ion_date  │\n",
       "│ u32       ┆ str        ┆ str        ┆ ---        ┆   ┆ i32       ┆ i32   ┆ str       ┆ ---       │\n",
       "│           ┆            ┆            ┆ str        ┆   ┆           ┆       ┆           ┆ datetime[ │\n",
       "│           ┆            ┆            ┆            ┆   ┆           ┆       ┆           ┆ μs]       │\n",
       "╞═══════════╪════════════╪════════════╪════════════╪═══╪═══════════╪═══════╪═══════════╪═══════════╡\n",
       "│ 2994701   ┆ Roc Meler  ┆ Roc Meler  ┆ Roc        ┆ … ┆ 2811      ┆ 2348  ┆ Europe/An ┆ 2023-10-0 │\n",
       "│           ┆            ┆            ┆ Mele,Roc   ┆   ┆           ┆       ┆ dorra     ┆ 3         │\n",
       "│           ┆            ┆            ┆ Meler,Roc  ┆   ┆           ┆       ┆           ┆ 00:00:00  │\n",
       "│           ┆            ┆            ┆ Mélé       ┆   ┆           ┆       ┆           ┆           │\n",
       "│ 3017832   ┆ Pic de les ┆ Pic de les ┆ Pic de la  ┆ … ┆ null      ┆ 2411  ┆ Europe/An ┆ 2014-11-0 │\n",
       "│           ┆ Abelletes  ┆ Abelletes  ┆ Font-Negre ┆   ┆           ┆       ┆ dorra     ┆ 5         │\n",
       "│           ┆            ┆            ┆ ,Pic de    ┆   ┆           ┆       ┆           ┆ 00:00:00  │\n",
       "│           ┆            ┆            ┆ la…        ┆   ┆           ┆       ┆           ┆           │\n",
       "│ 3017833   ┆ Estany de  ┆ Estany de  ┆ Estany de  ┆ … ┆ null      ┆ 2260  ┆ Europe/An ┆ 2014-11-0 │\n",
       "│           ┆ les        ┆ les        ┆ les Abelle ┆   ┆           ┆       ┆ dorra     ┆ 5         │\n",
       "│           ┆ Abelletes  ┆ Abelletes  ┆ tes,Etang  ┆   ┆           ┆       ┆           ┆ 00:00:00  │\n",
       "│           ┆            ┆            ┆ …          ┆   ┆           ┆       ┆           ┆           │\n",
       "│ 3023203   ┆ Port Vieux ┆ Port Vieux ┆ Port Vieux ┆ … ┆ null      ┆ 2687  ┆ Europe/An ┆ 2014-11-0 │\n",
       "│           ┆ de la      ┆ de la      ┆ de Coume   ┆   ┆           ┆       ┆ dorra     ┆ 5         │\n",
       "│           ┆ Coume      ┆ Coume      ┆ d'Ose,Port ┆   ┆           ┆       ┆           ┆ 00:00:00  │\n",
       "│           ┆ d’Ose      ┆ d'Ose      ┆ …          ┆   ┆           ┆       ┆           ┆           │\n",
       "│ 3029315   ┆ Port de la ┆ Port de la ┆ Port de la ┆ … ┆ null      ┆ 2379  ┆ Europe/An ┆ 2014-11-0 │\n",
       "│           ┆ Cabanette  ┆ Cabanette  ┆ Cabanette, ┆   ┆           ┆       ┆ dorra     ┆ 5         │\n",
       "│           ┆            ┆            ┆ Porteille… ┆   ┆           ┆       ┆           ┆ 00:00:00  │\n",
       "│ …         ┆ …          ┆ …          ┆ …          ┆ … ┆ …         ┆ …     ┆ …         ┆ …         │\n",
       "│ 12808977  ┆ Lilly      ┆ Lilly      ┆ null       ┆ … ┆ null      ┆ -9999 ┆ null      ┆ 2024-05-1 │\n",
       "│           ┆ Canyon     ┆ Canyon     ┆            ┆   ┆           ┆       ┆           ┆ 5         │\n",
       "│           ┆            ┆            ┆            ┆   ┆           ┆       ┆           ┆ 00:00:00  │\n",
       "│ 12808978  ┆ Kettle     ┆ Kettle     ┆ null       ┆ … ┆ null      ┆ -9999 ┆ null      ┆ 2024-05-1 │\n",
       "│           ┆ Canyon     ┆ Canyon     ┆            ┆   ┆           ┆       ┆           ┆ 5         │\n",
       "│           ┆            ┆            ┆            ┆   ┆           ┆       ┆           ┆ 00:00:00  │\n",
       "│ 12808979  ┆ Guy Canyon ┆ Guy Canyon ┆ null       ┆ … ┆ null      ┆ -9999 ┆ null      ┆ 2024-05-1 │\n",
       "│           ┆            ┆            ┆            ┆   ┆           ┆       ┆           ┆ 5         │\n",
       "│           ┆            ┆            ┆            ┆   ┆           ┆       ┆           ┆ 00:00:00  │\n",
       "│ 12808980  ┆ Carson     ┆ Carson     ┆ null       ┆ … ┆ null      ┆ -9999 ┆ null      ┆ 2024-05-1 │\n",
       "│           ┆ Canyon     ┆ Canyon     ┆            ┆   ┆           ┆       ┆           ┆ 5         │\n",
       "│           ┆            ┆            ┆            ┆   ┆           ┆       ┆           ┆ 00:00:00  │\n",
       "│ 12808981  ┆ Beaufort   ┆ Beaufort   ┆ null       ┆ … ┆ null      ┆ -9999 ┆ null      ┆ 2024-05-1 │\n",
       "│           ┆ Shelf      ┆ Shelf      ┆            ┆   ┆           ┆       ┆           ┆ 5         │\n",
       "│           ┆            ┆            ┆            ┆   ┆           ┆       ┆           ┆ 00:00:00  │\n",
       "└───────────┴────────────┴────────────┴────────────┴───┴───────────┴───────┴───────────┴───────────┘"
      ]
     },
     "execution_count": 2,
     "metadata": {},
     "output_type": "execute_result"
    }
   ],
   "source": [
    "q = pl.scan_csv(\n",
    "    \"./data/geonames/allCountries.txt\",\n",
    "    separator=\"\\t\",\n",
    "    has_header=False,\n",
    "    schema={\n",
    "        \"geonameid\": pl.UInt32,\n",
    "        \"name\": pl.Utf8,\n",
    "        \"asciiname\": pl.Utf8,\n",
    "        \"alternatenames\": pl.Utf8,\n",
    "        \"latitude\": pl.Float32,\n",
    "        \"longitude\": pl.Float32,\n",
    "        \"feature_class\": pl.Utf8,\n",
    "        \"feature_code\": pl.Utf8,\n",
    "        \"country_code\": pl.Utf8,\n",
    "        \"cc2\": pl.Utf8,\n",
    "        \"admin1_code\": pl.Utf8,\n",
    "        \"admin2_code\": pl.Utf8,\n",
    "        \"admin3_code\": pl.Utf8,\n",
    "        \"admin4_code\": pl.Utf8,\n",
    "        \"population\": pl.Int64,\n",
    "        \"elevation\": pl.Int32,\n",
    "        \"dem\": pl.Int32,\n",
    "        \"timezone\": pl.Utf8,\n",
    "        \"modification_date\": pl.Datetime,\n",
    "    },\n",
    ")\n",
    "df = q.collect()\n",
    "df"
   ]
  },
  {
   "cell_type": "code",
   "execution_count": 3,
   "metadata": {},
   "outputs": [],
   "source": [
    "my_coordinates1 = np.array([51.55, -0.1346], dtype=np.float32)\n",
    "my_coordinates2 = np.array([37.77493, -122.41942], dtype=np.float32)"
   ]
  },
  {
   "cell_type": "code",
   "execution_count": 4,
   "metadata": {},
   "outputs": [],
   "source": [
    "coordinates1 = df.select([\"latitude\", \"longitude\"]).to_numpy()\n",
    "labels1 = df[\"geonameid\"].to_numpy()"
   ]
  },
  {
   "cell_type": "code",
   "execution_count": 5,
   "metadata": {},
   "outputs": [],
   "source": [
    "coordinates2 = np.zeros((df.shape[0], 2), dtype=np.float32)\n",
    "coordinates2[:, 0] = df[\"latitude\"].to_numpy()\n",
    "coordinates2[:, 1] = df[\"longitude\"].to_numpy()\n",
    "labels2 = np.array(df[\"geonameid\"], dtype=np.int32)"
   ]
  },
  {
   "cell_type": "code",
   "execution_count": 6,
   "metadata": {},
   "outputs": [
    {
     "data": {
      "text/plain": [
       "(True, True)"
      ]
     },
     "execution_count": 6,
     "metadata": {},
     "output_type": "execute_result"
    }
   ],
   "source": [
    "np.array_equal(coordinates1, coordinates2), np.array_equal(labels1, labels2)"
   ]
  },
  {
   "cell_type": "code",
   "execution_count": 7,
   "metadata": {},
   "outputs": [
    {
     "name": "stderr",
     "output_type": "stream",
     "text": [
      "Add: 100%|██████████| 12660854/12660854 [02:38<00:00, 79780.41vector/s]\n"
     ]
    },
    {
     "data": {
      "text/plain": [
       "array([ 2994701,  3017832,  3017833, ..., 12808979, 12808980, 12808981],\n",
       "      dtype=uint64)"
      ]
     },
     "execution_count": 7,
     "metadata": {},
     "output_type": "execute_result"
    }
   ],
   "source": [
    "index1: Index = Index(ndim=2, metric=\"haversine\", dtype=\"f32\")\n",
    "index1.add(keys=labels1, vectors=coordinates1, log=True, copy=False)"
   ]
  },
  {
   "cell_type": "code",
   "execution_count": 8,
   "metadata": {},
   "outputs": [
    {
     "name": "stderr",
     "output_type": "stream",
     "text": [
      "Add: 100%|██████████| 12660854/12660854 [02:03<00:00, 102679.19vector/s]\n"
     ]
    },
    {
     "data": {
      "text/plain": [
       "array([ 2994701,  3017832,  3017833, ..., 12808979, 12808980, 12808981],\n",
       "      dtype=uint64)"
      ]
     },
     "execution_count": 8,
     "metadata": {},
     "output_type": "execute_result"
    }
   ],
   "source": [
    "index2: Index = Index(ndim=2, metric=\"haversine\", dtype=\"f32\")\n",
    "index2.add(keys=labels2, vectors=coordinates2, log=True, copy=False)"
   ]
  },
  {
   "cell_type": "code",
   "execution_count": 9,
   "metadata": {},
   "outputs": [
    {
     "name": "stderr",
     "output_type": "stream",
     "text": [
      "Search: 100%|██████████| 1/1 [00:01<00:00,  1.32s/vector]\n"
     ]
    },
    {
     "data": {
      "text/html": [
       "<div><style>\n",
       ".dataframe > thead > tr,\n",
       ".dataframe > tbody > tr {\n",
       "  text-align: right;\n",
       "  white-space: pre-wrap;\n",
       "}\n",
       "</style>\n",
       "<small>shape: (10, 19)</small><table border=\"1\" class=\"dataframe\"><thead><tr><th>geonameid</th><th>name</th><th>asciiname</th><th>alternatenames</th><th>latitude</th><th>longitude</th><th>feature_class</th><th>feature_code</th><th>country_code</th><th>cc2</th><th>admin1_code</th><th>admin2_code</th><th>admin3_code</th><th>admin4_code</th><th>population</th><th>elevation</th><th>dem</th><th>timezone</th><th>modification_date</th></tr><tr><td>u32</td><td>str</td><td>str</td><td>str</td><td>f32</td><td>f32</td><td>str</td><td>str</td><td>str</td><td>str</td><td>str</td><td>str</td><td>str</td><td>str</td><td>i64</td><td>i32</td><td>i32</td><td>str</td><td>datetime[μs]</td></tr></thead><tbody><tr><td>12217233</td><td>&quot;Lazovský vrch&quot;</td><td>&quot;Lazovsky vrch&quot;</td><td>null</td><td>49.26963</td><td>20.95969</td><td>&quot;T&quot;</td><td>&quot;MT&quot;</td><td>&quot;CF&quot;</td><td>null</td><td>&quot;01&quot;</td><td>&quot;9143460&quot;</td><td>null</td><td>null</td><td>0</td><td>859</td><td>853</td><td>&quot;Europe/Bratislava&quot;</td><td>2021-02-26 00:00:00</td></tr><tr><td>9534996</td><td>&quot;Návary&quot;</td><td>&quot;Navary&quot;</td><td>null</td><td>50.98085</td><td>15.20861</td><td>&quot;T&quot;</td><td>&quot;HLL&quot;</td><td>&quot;CG&quot;</td><td>null</td><td>null</td><td>null</td><td>null</td><td>null</td><td>0</td><td>681</td><td>405</td><td>&quot;Africa/Brazzaville&quot;</td><td>2015-05-05 00:00:00</td></tr><tr><td>12809069</td><td>&quot;Collège Albert-Camus&quot;</td><td>&quot;College Albert-Camus&quot;</td><td>null</td><td>47.809559</td><td>3.57058</td><td>&quot;S&quot;</td><td>&quot;SCH&quot;</td><td>&quot;FR&quot;</td><td>null</td><td>&quot;27&quot;</td><td>&quot;89&quot;</td><td>&quot;891&quot;</td><td>&quot;89024&quot;</td><td>0</td><td>null</td><td>98</td><td>&quot;Europe/Paris&quot;</td><td>2024-05-16 00:00:00</td></tr><tr><td>12624076</td><td>&quot;Fort Albert&quot;</td><td>&quot;Fort Albert&quot;</td><td>&quot;Fort Albert&quot;</td><td>49.72633</td><td>-2.184</td><td>&quot;T&quot;</td><td>&quot;HLL&quot;</td><td>&quot;GG&quot;</td><td>null</td><td>null</td><td>null</td><td>null</td><td>null</td><td>0</td><td>55</td><td>50</td><td>&quot;Europe/Guernsey&quot;</td><td>2023-10-21 00:00:00</td></tr><tr><td>12749917</td><td>&quot;Istvánmező&quot;</td><td>&quot;Istvanmezo&quot;</td><td>null</td><td>47.5047</td><td>19.095539</td><td>&quot;P&quot;</td><td>&quot;PPLX&quot;</td><td>&quot;HU&quot;</td><td>null</td><td>&quot;05&quot;</td><td>null</td><td>null</td><td>null</td><td>11794</td><td>null</td><td>103</td><td>&quot;Europe/Budapest&quot;</td><td>2024-03-17 00:00:00</td></tr><tr><td>11154479</td><td>&quot;Erbach Schloss&quot;</td><td>&quot;Erbach Schloss&quot;</td><td>null</td><td>49.657169</td><td>8.9925</td><td>&quot;S&quot;</td><td>&quot;CSTL&quot;</td><td>&quot;SO&quot;</td><td>null</td><td>&quot;03&quot;</td><td>null</td><td>null</td><td>null</td><td>0</td><td>null</td><td>216</td><td>&quot;Africa/Mogadishu&quot;</td><td>2016-06-03 00:00:00</td></tr><tr><td>12809058</td><td>&quot;Lazarevka&quot;</td><td>&quot;Lazarevka&quot;</td><td>&quot;Lazarevka,Лазаревка&quot;</td><td>50.342339</td><td>29.29698</td><td>&quot;P&quot;</td><td>&quot;PPLQ&quot;</td><td>&quot;UA&quot;</td><td>null</td><td>&quot;27&quot;</td><td>&quot;1804&quot;</td><td>null</td><td>null</td><td>0</td><td>null</td><td>170</td><td>&quot;Europe/Kyiv&quot;</td><td>2024-05-16 00:00:00</td></tr><tr><td>7763448</td><td>&quot;Donnell Seamount&quot;</td><td>&quot;Donnell Seamount&quot;</td><td>null</td><td>50.083328</td><td>-45.349998</td><td>&quot;U&quot;</td><td>&quot;SMU&quot;</td><td>null</td><td>null</td><td>&quot;00&quot;</td><td>null</td><td>null</td><td>null</td><td>0</td><td>null</td><td>-9999</td><td>null</td><td>2011-04-20 00:00:00</td></tr><tr><td>8617633</td><td>&quot;Coastal Waters Of Southeast Al…</td><td>&quot;Coastal Waters Of Southeast Al…</td><td>&quot;The Coastal Waters of Southeas…</td><td>52.829319</td><td>-130.913086</td><td>&quot;H&quot;</td><td>&quot;CHNM&quot;</td><td>null</td><td>null</td><td>null</td><td>null</td><td>null</td><td>null</td><td>0</td><td>null</td><td>-9999</td><td>null</td><td>2013-10-01 00:00:00</td></tr><tr><td>12217848</td><td>&quot;Central Europe&quot;</td><td>&quot;Central Europe&quot;</td><td>null</td><td>50.287621</td><td>15.1903</td><td>&quot;L&quot;</td><td>&quot;RGN&quot;</td><td>null</td><td>&quot;AT,CH,CZ,DE,PL,SK,HU,SI&quot;</td><td>null</td><td>null</td><td>null</td><td>null</td><td>166180000</td><td>null</td><td>212</td><td>&quot;Europe/Prague&quot;</td><td>2021-03-22 00:00:00</td></tr></tbody></table></div>"
      ],
      "text/plain": [
       "shape: (10, 19)\n",
       "┌───────────┬────────────┬────────────┬────────────┬───┬───────────┬───────┬───────────┬───────────┐\n",
       "│ geonameid ┆ name       ┆ asciiname  ┆ alternaten ┆ … ┆ elevation ┆ dem   ┆ timezone  ┆ modificat │\n",
       "│ ---       ┆ ---        ┆ ---        ┆ ames       ┆   ┆ ---       ┆ ---   ┆ ---       ┆ ion_date  │\n",
       "│ u32       ┆ str        ┆ str        ┆ ---        ┆   ┆ i32       ┆ i32   ┆ str       ┆ ---       │\n",
       "│           ┆            ┆            ┆ str        ┆   ┆           ┆       ┆           ┆ datetime[ │\n",
       "│           ┆            ┆            ┆            ┆   ┆           ┆       ┆           ┆ μs]       │\n",
       "╞═══════════╪════════════╪════════════╪════════════╪═══╪═══════════╪═══════╪═══════════╪═══════════╡\n",
       "│ 12217233  ┆ Lazovský   ┆ Lazovsky   ┆ null       ┆ … ┆ 859       ┆ 853   ┆ Europe/Br ┆ 2021-02-2 │\n",
       "│           ┆ vrch       ┆ vrch       ┆            ┆   ┆           ┆       ┆ atislava  ┆ 6         │\n",
       "│           ┆            ┆            ┆            ┆   ┆           ┆       ┆           ┆ 00:00:00  │\n",
       "│ 9534996   ┆ Návary     ┆ Navary     ┆ null       ┆ … ┆ 681       ┆ 405   ┆ Africa/Br ┆ 2015-05-0 │\n",
       "│           ┆            ┆            ┆            ┆   ┆           ┆       ┆ azzaville ┆ 5         │\n",
       "│           ┆            ┆            ┆            ┆   ┆           ┆       ┆           ┆ 00:00:00  │\n",
       "│ 12809069  ┆ Collège    ┆ College    ┆ null       ┆ … ┆ null      ┆ 98    ┆ Europe/Pa ┆ 2024-05-1 │\n",
       "│           ┆ Albert-Cam ┆ Albert-Cam ┆            ┆   ┆           ┆       ┆ ris       ┆ 6         │\n",
       "│           ┆ us         ┆ us         ┆            ┆   ┆           ┆       ┆           ┆ 00:00:00  │\n",
       "│ 12624076  ┆ Fort       ┆ Fort       ┆ Fort       ┆ … ┆ 55        ┆ 50    ┆ Europe/Gu ┆ 2023-10-2 │\n",
       "│           ┆ Albert     ┆ Albert     ┆ Albert     ┆   ┆           ┆       ┆ ernsey    ┆ 1         │\n",
       "│           ┆            ┆            ┆            ┆   ┆           ┆       ┆           ┆ 00:00:00  │\n",
       "│ 12749917  ┆ Istvánmező ┆ Istvanmezo ┆ null       ┆ … ┆ null      ┆ 103   ┆ Europe/Bu ┆ 2024-03-1 │\n",
       "│           ┆            ┆            ┆            ┆   ┆           ┆       ┆ dapest    ┆ 7         │\n",
       "│           ┆            ┆            ┆            ┆   ┆           ┆       ┆           ┆ 00:00:00  │\n",
       "│ 11154479  ┆ Erbach     ┆ Erbach     ┆ null       ┆ … ┆ null      ┆ 216   ┆ Africa/Mo ┆ 2016-06-0 │\n",
       "│           ┆ Schloss    ┆ Schloss    ┆            ┆   ┆           ┆       ┆ gadishu   ┆ 3         │\n",
       "│           ┆            ┆            ┆            ┆   ┆           ┆       ┆           ┆ 00:00:00  │\n",
       "│ 12809058  ┆ Lazarevka  ┆ Lazarevka  ┆ Lazarevka, ┆ … ┆ null      ┆ 170   ┆ Europe/Ky ┆ 2024-05-1 │\n",
       "│           ┆            ┆            ┆ Лазаревка  ┆   ┆           ┆       ┆ iv        ┆ 6         │\n",
       "│           ┆            ┆            ┆            ┆   ┆           ┆       ┆           ┆ 00:00:00  │\n",
       "│ 7763448   ┆ Donnell    ┆ Donnell    ┆ null       ┆ … ┆ null      ┆ -9999 ┆ null      ┆ 2011-04-2 │\n",
       "│           ┆ Seamount   ┆ Seamount   ┆            ┆   ┆           ┆       ┆           ┆ 0         │\n",
       "│           ┆            ┆            ┆            ┆   ┆           ┆       ┆           ┆ 00:00:00  │\n",
       "│ 8617633   ┆ Coastal    ┆ Coastal    ┆ The        ┆ … ┆ null      ┆ -9999 ┆ null      ┆ 2013-10-0 │\n",
       "│           ┆ Waters Of  ┆ Waters Of  ┆ Coastal    ┆   ┆           ┆       ┆           ┆ 1         │\n",
       "│           ┆ Southeast  ┆ Southeast  ┆ Waters of  ┆   ┆           ┆       ┆           ┆ 00:00:00  │\n",
       "│           ┆ Al…        ┆ Al…        ┆ Southeas…  ┆   ┆           ┆       ┆           ┆           │\n",
       "│ 12217848  ┆ Central    ┆ Central    ┆ null       ┆ … ┆ null      ┆ 212   ┆ Europe/Pr ┆ 2021-03-2 │\n",
       "│           ┆ Europe     ┆ Europe     ┆            ┆   ┆           ┆       ┆ ague      ┆ 2         │\n",
       "│           ┆            ┆            ┆            ┆   ┆           ┆       ┆           ┆ 00:00:00  │\n",
       "└───────────┴────────────┴────────────┴────────────┴───┴───────────┴───────┴───────────┴───────────┘"
      ]
     },
     "execution_count": 9,
     "metadata": {},
     "output_type": "execute_result"
    }
   ],
   "source": [
    "output1: Matches = index1.search(\n",
    "    vectors=my_coordinates1, count=10, exact=True, log=True\n",
    ")\n",
    "df.filter(pl.col(\"geonameid\").is_in(output1.keys))"
   ]
  },
  {
   "cell_type": "code",
   "execution_count": 10,
   "metadata": {},
   "outputs": [
    {
     "name": "stderr",
     "output_type": "stream",
     "text": [
      "Search: 100%|██████████| 1/1 [00:01<00:00,  1.70s/vector]\n"
     ]
    },
    {
     "data": {
      "text/html": [
       "<div><style>\n",
       ".dataframe > thead > tr,\n",
       ".dataframe > tbody > tr {\n",
       "  text-align: right;\n",
       "  white-space: pre-wrap;\n",
       "}\n",
       "</style>\n",
       "<small>shape: (10, 19)</small><table border=\"1\" class=\"dataframe\"><thead><tr><th>geonameid</th><th>name</th><th>asciiname</th><th>alternatenames</th><th>latitude</th><th>longitude</th><th>feature_class</th><th>feature_code</th><th>country_code</th><th>cc2</th><th>admin1_code</th><th>admin2_code</th><th>admin3_code</th><th>admin4_code</th><th>population</th><th>elevation</th><th>dem</th><th>timezone</th><th>modification_date</th></tr><tr><td>u32</td><td>str</td><td>str</td><td>str</td><td>f32</td><td>f32</td><td>str</td><td>str</td><td>str</td><td>str</td><td>str</td><td>str</td><td>str</td><td>str</td><td>i64</td><td>i32</td><td>i32</td><td>str</td><td>datetime[μs]</td></tr></thead><tbody><tr><td>6493096</td><td>&quot;Queens Hotel&quot;</td><td>&quot;Queens Hotel&quot;</td><td>null</td><td>51.554901</td><td>-0.132</td><td>&quot;S&quot;</td><td>&quot;HTL&quot;</td><td>&quot;GB&quot;</td><td>null</td><td>&quot;ENG&quot;</td><td>&quot;GLA&quot;</td><td>&quot;G3&quot;</td><td>null</td><td>0</td><td>null</td><td>45</td><td>&quot;Europe/London&quot;</td><td>2010-05-24 00:00:00</td></tr><tr><td>6690587</td><td>&quot;Kentish Town&quot;</td><td>&quot;Kentish Town&quot;</td><td>&quot;کینٹش ٹاؤن&quot;</td><td>51.551682</td><td>-0.14125</td><td>&quot;P&quot;</td><td>&quot;PPL&quot;</td><td>&quot;GB&quot;</td><td>null</td><td>&quot;ENG&quot;</td><td>&quot;GLA&quot;</td><td>&quot;C4&quot;</td><td>null</td><td>0</td><td>null</td><td>40</td><td>&quot;Europe/London&quot;</td><td>2011-03-03 00:00:00</td></tr><tr><td>6943739</td><td>&quot;The Corner House Hotel&quot;</td><td>&quot;The Corner House Hotel&quot;</td><td>null</td><td>51.5485</td><td>-0.13006</td><td>&quot;S&quot;</td><td>&quot;HTL&quot;</td><td>&quot;GB&quot;</td><td>null</td><td>&quot;ENG&quot;</td><td>&quot;GLA&quot;</td><td>&quot;C4&quot;</td><td>null</td><td>0</td><td>null</td><td>51</td><td>&quot;Europe/London&quot;</td><td>2010-05-25 00:00:00</td></tr><tr><td>6952900</td><td>&quot;Kentish Town Station&quot;</td><td>&quot;Kentish Town Station&quot;</td><td>&quot;Bahnhof Kentish Town,KTN,Kenti…</td><td>51.550831</td><td>-0.14083</td><td>&quot;S&quot;</td><td>&quot;RSTN&quot;</td><td>&quot;GB&quot;</td><td>null</td><td>&quot;ENG&quot;</td><td>&quot;GLA&quot;</td><td>&quot;C4&quot;</td><td>null</td><td>0</td><td>null</td><td>37</td><td>&quot;Europe/London&quot;</td><td>2010-05-25 00:00:00</td></tr><tr><td>6954729</td><td>&quot;Kentish Town Underground Stati…</td><td>&quot;Kentish Town Underground Stati…</td><td>null</td><td>51.55032</td><td>-0.13919</td><td>&quot;S&quot;</td><td>&quot;MTRO&quot;</td><td>&quot;GB&quot;</td><td>null</td><td>&quot;ENG&quot;</td><td>&quot;GLA&quot;</td><td>&quot;C4&quot;</td><td>null</td><td>0</td><td>null</td><td>38</td><td>&quot;Europe/London&quot;</td><td>2010-05-25 00:00:00</td></tr><tr><td>7648321</td><td>&quot;Charlies Hotel&quot;</td><td>&quot;Charlies Hotel&quot;</td><td>null</td><td>51.55526</td><td>-0.13072</td><td>&quot;S&quot;</td><td>&quot;HTL&quot;</td><td>&quot;GB&quot;</td><td>null</td><td>&quot;ENG&quot;</td><td>&quot;GLA&quot;</td><td>&quot;G3&quot;</td><td>null</td><td>0</td><td>null</td><td>44</td><td>&quot;Europe/London&quot;</td><td>2011-01-31 00:00:00</td></tr><tr><td>9951999</td><td>&quot;Five Kings Hotel&quot;</td><td>&quot;Five Kings Hotel&quot;</td><td>null</td><td>51.555279</td><td>-0.13074</td><td>&quot;S&quot;</td><td>&quot;HTL&quot;</td><td>&quot;GB&quot;</td><td>null</td><td>&quot;ENG&quot;</td><td>&quot;GLA&quot;</td><td>&quot;G3&quot;</td><td>null</td><td>0</td><td>null</td><td>44</td><td>&quot;Europe/London&quot;</td><td>2015-01-10 00:00:00</td></tr><tr><td>9952020</td><td>&quot;Corner House Hotel Y Anexo&quot;</td><td>&quot;Corner House Hotel Y Anexo&quot;</td><td>null</td><td>51.549252</td><td>-0.12864</td><td>&quot;S&quot;</td><td>&quot;HTL&quot;</td><td>&quot;GB&quot;</td><td>null</td><td>&quot;ENG&quot;</td><td>&quot;GLA&quot;</td><td>&quot;G3&quot;</td><td>null</td><td>0</td><td>null</td><td>51</td><td>&quot;Europe/London&quot;</td><td>2015-01-10 00:00:00</td></tr><tr><td>10238344</td><td>&quot;Five Kings - Hsd&quot;</td><td>&quot;Five Kings - Hsd&quot;</td><td>null</td><td>51.554981</td><td>-0.13261</td><td>&quot;S&quot;</td><td>&quot;HTL&quot;</td><td>&quot;GB&quot;</td><td>null</td><td>&quot;ENG&quot;</td><td>&quot;GLA&quot;</td><td>&quot;G3&quot;</td><td>null</td><td>0</td><td>null</td><td>44</td><td>&quot;Europe/London&quot;</td><td>2015-04-28 00:00:00</td></tr><tr><td>12048278</td><td>&quot;Cantelowes&quot;</td><td>&quot;Cantelowes&quot;</td><td>null</td><td>51.545052</td><td>-0.1337</td><td>&quot;P&quot;</td><td>&quot;PPLX&quot;</td><td>&quot;GB&quot;</td><td>null</td><td>&quot;ENG&quot;</td><td>&quot;GLA&quot;</td><td>&quot;C4&quot;</td><td>null</td><td>0</td><td>null</td><td>40</td><td>&quot;Europe/London&quot;</td><td>2019-06-07 00:00:00</td></tr></tbody></table></div>"
      ],
      "text/plain": [
       "shape: (10, 19)\n",
       "┌───────────┬────────────┬────────────┬────────────┬───┬───────────┬─────┬────────────┬────────────┐\n",
       "│ geonameid ┆ name       ┆ asciiname  ┆ alternaten ┆ … ┆ elevation ┆ dem ┆ timezone   ┆ modificati │\n",
       "│ ---       ┆ ---        ┆ ---        ┆ ames       ┆   ┆ ---       ┆ --- ┆ ---        ┆ on_date    │\n",
       "│ u32       ┆ str        ┆ str        ┆ ---        ┆   ┆ i32       ┆ i32 ┆ str        ┆ ---        │\n",
       "│           ┆            ┆            ┆ str        ┆   ┆           ┆     ┆            ┆ datetime[μ │\n",
       "│           ┆            ┆            ┆            ┆   ┆           ┆     ┆            ┆ s]         │\n",
       "╞═══════════╪════════════╪════════════╪════════════╪═══╪═══════════╪═════╪════════════╪════════════╡\n",
       "│ 6493096   ┆ Queens     ┆ Queens     ┆ null       ┆ … ┆ null      ┆ 45  ┆ Europe/Lon ┆ 2010-05-24 │\n",
       "│           ┆ Hotel      ┆ Hotel      ┆            ┆   ┆           ┆     ┆ don        ┆ 00:00:00   │\n",
       "│ 6690587   ┆ Kentish    ┆ Kentish    ┆ کینٹش ٹاؤن ┆ … ┆ null      ┆ 40  ┆ Europe/Lon ┆ 2011-03-03 │\n",
       "│           ┆ Town       ┆ Town       ┆            ┆   ┆           ┆     ┆ don        ┆ 00:00:00   │\n",
       "│ 6943739   ┆ The Corner ┆ The Corner ┆ null       ┆ … ┆ null      ┆ 51  ┆ Europe/Lon ┆ 2010-05-25 │\n",
       "│           ┆ House      ┆ House      ┆            ┆   ┆           ┆     ┆ don        ┆ 00:00:00   │\n",
       "│           ┆ Hotel      ┆ Hotel      ┆            ┆   ┆           ┆     ┆            ┆            │\n",
       "│ 6952900   ┆ Kentish    ┆ Kentish    ┆ Bahnhof    ┆ … ┆ null      ┆ 37  ┆ Europe/Lon ┆ 2010-05-25 │\n",
       "│           ┆ Town       ┆ Town       ┆ Kentish    ┆   ┆           ┆     ┆ don        ┆ 00:00:00   │\n",
       "│           ┆ Station    ┆ Station    ┆ Town,KTN,K ┆   ┆           ┆     ┆            ┆            │\n",
       "│           ┆            ┆            ┆ enti…      ┆   ┆           ┆     ┆            ┆            │\n",
       "│ 6954729   ┆ Kentish    ┆ Kentish    ┆ null       ┆ … ┆ null      ┆ 38  ┆ Europe/Lon ┆ 2010-05-25 │\n",
       "│           ┆ Town Under ┆ Town Under ┆            ┆   ┆           ┆     ┆ don        ┆ 00:00:00   │\n",
       "│           ┆ ground     ┆ ground     ┆            ┆   ┆           ┆     ┆            ┆            │\n",
       "│           ┆ Stati…     ┆ Stati…     ┆            ┆   ┆           ┆     ┆            ┆            │\n",
       "│ 7648321   ┆ Charlies   ┆ Charlies   ┆ null       ┆ … ┆ null      ┆ 44  ┆ Europe/Lon ┆ 2011-01-31 │\n",
       "│           ┆ Hotel      ┆ Hotel      ┆            ┆   ┆           ┆     ┆ don        ┆ 00:00:00   │\n",
       "│ 9951999   ┆ Five Kings ┆ Five Kings ┆ null       ┆ … ┆ null      ┆ 44  ┆ Europe/Lon ┆ 2015-01-10 │\n",
       "│           ┆ Hotel      ┆ Hotel      ┆            ┆   ┆           ┆     ┆ don        ┆ 00:00:00   │\n",
       "│ 9952020   ┆ Corner     ┆ Corner     ┆ null       ┆ … ┆ null      ┆ 51  ┆ Europe/Lon ┆ 2015-01-10 │\n",
       "│           ┆ House      ┆ House      ┆            ┆   ┆           ┆     ┆ don        ┆ 00:00:00   │\n",
       "│           ┆ Hotel Y    ┆ Hotel Y    ┆            ┆   ┆           ┆     ┆            ┆            │\n",
       "│           ┆ Anexo      ┆ Anexo      ┆            ┆   ┆           ┆     ┆            ┆            │\n",
       "│ 10238344  ┆ Five Kings ┆ Five Kings ┆ null       ┆ … ┆ null      ┆ 44  ┆ Europe/Lon ┆ 2015-04-28 │\n",
       "│           ┆ - Hsd      ┆ - Hsd      ┆            ┆   ┆           ┆     ┆ don        ┆ 00:00:00   │\n",
       "│ 12048278  ┆ Cantelowes ┆ Cantelowes ┆ null       ┆ … ┆ null      ┆ 40  ┆ Europe/Lon ┆ 2019-06-07 │\n",
       "│           ┆            ┆            ┆            ┆   ┆           ┆     ┆ don        ┆ 00:00:00   │\n",
       "└───────────┴────────────┴────────────┴────────────┴───┴───────────┴─────┴────────────┴────────────┘"
      ]
     },
     "execution_count": 10,
     "metadata": {},
     "output_type": "execute_result"
    }
   ],
   "source": [
    "output2: Matches = index2.search(\n",
    "    vectors=my_coordinates1, count=10, exact=True, log=True\n",
    ")\n",
    "df.filter(pl.col(\"geonameid\").is_in(output2.keys))"
   ]
  },
  {
   "cell_type": "code",
   "execution_count": 11,
   "metadata": {},
   "outputs": [
    {
     "name": "stdout",
     "output_type": "stream",
     "text": [
      "  C_CONTIGUOUS : False\n",
      "  F_CONTIGUOUS : True\n",
      "  OWNDATA : False\n",
      "  WRITEABLE : True\n",
      "  ALIGNED : True\n",
      "  WRITEBACKIFCOPY : False\n",
      "\n",
      "  C_CONTIGUOUS : True\n",
      "  F_CONTIGUOUS : False\n",
      "  OWNDATA : True\n",
      "  WRITEABLE : True\n",
      "  ALIGNED : True\n",
      "  WRITEBACKIFCOPY : False\n",
      "\n",
      "  C_CONTIGUOUS : True\n",
      "  F_CONTIGUOUS : True\n",
      "  OWNDATA : False\n",
      "  WRITEABLE : False\n",
      "  ALIGNED : True\n",
      "  WRITEBACKIFCOPY : False\n",
      "\n",
      "  C_CONTIGUOUS : True\n",
      "  F_CONTIGUOUS : True\n",
      "  OWNDATA : True\n",
      "  WRITEABLE : True\n",
      "  ALIGNED : True\n",
      "  WRITEBACKIFCOPY : False\n",
      "\n"
     ]
    }
   ],
   "source": [
    "print(coordinates1.flags)\n",
    "print(coordinates2.flags)\n",
    "print(labels1.flags)\n",
    "print(labels2.flags)"
   ]
  },
  {
   "cell_type": "code",
   "execution_count": 13,
   "metadata": {},
   "outputs": [],
   "source": [
    "coordinates1 = df.select([\"latitude\", \"longitude\"]).to_numpy(\n",
    "    order=\"c\"\n",
    ")  # Change the array to be row-major\n",
    "labels1 = df[\"geonameid\"].to_numpy()"
   ]
  },
  {
   "cell_type": "code",
   "execution_count": 14,
   "metadata": {},
   "outputs": [
    {
     "name": "stdout",
     "output_type": "stream",
     "text": [
      "  C_CONTIGUOUS : True\n",
      "  F_CONTIGUOUS : False\n",
      "  OWNDATA : False\n",
      "  WRITEABLE : True\n",
      "  ALIGNED : True\n",
      "  WRITEBACKIFCOPY : False\n",
      "\n",
      "  C_CONTIGUOUS : True\n",
      "  F_CONTIGUOUS : True\n",
      "  OWNDATA : False\n",
      "  WRITEABLE : False\n",
      "  ALIGNED : True\n",
      "  WRITEBACKIFCOPY : False\n",
      "\n"
     ]
    }
   ],
   "source": [
    "print(coordinates1.flags)\n",
    "print(labels1.flags)"
   ]
  },
  {
   "cell_type": "code",
   "execution_count": 15,
   "metadata": {},
   "outputs": [
    {
     "name": "stderr",
     "output_type": "stream",
     "text": [
      "Add: 100%|██████████| 12660854/12660854 [01:54<00:00, 110576.58vector/s]\n"
     ]
    },
    {
     "data": {
      "text/plain": [
       "array([ 2994701,  3017832,  3017833, ..., 12808979, 12808980, 12808981],\n",
       "      dtype=uint64)"
      ]
     },
     "execution_count": 15,
     "metadata": {},
     "output_type": "execute_result"
    }
   ],
   "source": [
    "index1: Index = Index(ndim=2, metric=\"haversine\", dtype=\"f32\")\n",
    "index1.add(keys=labels1, vectors=coordinates1, log=True, copy=False)"
   ]
  },
  {
   "cell_type": "code",
   "execution_count": 16,
   "metadata": {},
   "outputs": [
    {
     "name": "stderr",
     "output_type": "stream",
     "text": [
      "Search: 100%|██████████| 1/1 [00:00<00:00,  2.30vector/s]\n"
     ]
    },
    {
     "data": {
      "text/html": [
       "<div><style>\n",
       ".dataframe > thead > tr,\n",
       ".dataframe > tbody > tr {\n",
       "  text-align: right;\n",
       "  white-space: pre-wrap;\n",
       "}\n",
       "</style>\n",
       "<small>shape: (10, 19)</small><table border=\"1\" class=\"dataframe\"><thead><tr><th>geonameid</th><th>name</th><th>asciiname</th><th>alternatenames</th><th>latitude</th><th>longitude</th><th>feature_class</th><th>feature_code</th><th>country_code</th><th>cc2</th><th>admin1_code</th><th>admin2_code</th><th>admin3_code</th><th>admin4_code</th><th>population</th><th>elevation</th><th>dem</th><th>timezone</th><th>modification_date</th></tr><tr><td>u32</td><td>str</td><td>str</td><td>str</td><td>f32</td><td>f32</td><td>str</td><td>str</td><td>str</td><td>str</td><td>str</td><td>str</td><td>str</td><td>str</td><td>i64</td><td>i32</td><td>i32</td><td>str</td><td>datetime[μs]</td></tr></thead><tbody><tr><td>6493096</td><td>&quot;Queens Hotel&quot;</td><td>&quot;Queens Hotel&quot;</td><td>null</td><td>51.554901</td><td>-0.132</td><td>&quot;S&quot;</td><td>&quot;HTL&quot;</td><td>&quot;GB&quot;</td><td>null</td><td>&quot;ENG&quot;</td><td>&quot;GLA&quot;</td><td>&quot;G3&quot;</td><td>null</td><td>0</td><td>null</td><td>45</td><td>&quot;Europe/London&quot;</td><td>2010-05-24 00:00:00</td></tr><tr><td>6690587</td><td>&quot;Kentish Town&quot;</td><td>&quot;Kentish Town&quot;</td><td>&quot;کینٹش ٹاؤن&quot;</td><td>51.551682</td><td>-0.14125</td><td>&quot;P&quot;</td><td>&quot;PPL&quot;</td><td>&quot;GB&quot;</td><td>null</td><td>&quot;ENG&quot;</td><td>&quot;GLA&quot;</td><td>&quot;C4&quot;</td><td>null</td><td>0</td><td>null</td><td>40</td><td>&quot;Europe/London&quot;</td><td>2011-03-03 00:00:00</td></tr><tr><td>6943739</td><td>&quot;The Corner House Hotel&quot;</td><td>&quot;The Corner House Hotel&quot;</td><td>null</td><td>51.5485</td><td>-0.13006</td><td>&quot;S&quot;</td><td>&quot;HTL&quot;</td><td>&quot;GB&quot;</td><td>null</td><td>&quot;ENG&quot;</td><td>&quot;GLA&quot;</td><td>&quot;C4&quot;</td><td>null</td><td>0</td><td>null</td><td>51</td><td>&quot;Europe/London&quot;</td><td>2010-05-25 00:00:00</td></tr><tr><td>6952900</td><td>&quot;Kentish Town Station&quot;</td><td>&quot;Kentish Town Station&quot;</td><td>&quot;Bahnhof Kentish Town,KTN,Kenti…</td><td>51.550831</td><td>-0.14083</td><td>&quot;S&quot;</td><td>&quot;RSTN&quot;</td><td>&quot;GB&quot;</td><td>null</td><td>&quot;ENG&quot;</td><td>&quot;GLA&quot;</td><td>&quot;C4&quot;</td><td>null</td><td>0</td><td>null</td><td>37</td><td>&quot;Europe/London&quot;</td><td>2010-05-25 00:00:00</td></tr><tr><td>6954729</td><td>&quot;Kentish Town Underground Stati…</td><td>&quot;Kentish Town Underground Stati…</td><td>null</td><td>51.55032</td><td>-0.13919</td><td>&quot;S&quot;</td><td>&quot;MTRO&quot;</td><td>&quot;GB&quot;</td><td>null</td><td>&quot;ENG&quot;</td><td>&quot;GLA&quot;</td><td>&quot;C4&quot;</td><td>null</td><td>0</td><td>null</td><td>38</td><td>&quot;Europe/London&quot;</td><td>2010-05-25 00:00:00</td></tr><tr><td>7648321</td><td>&quot;Charlies Hotel&quot;</td><td>&quot;Charlies Hotel&quot;</td><td>null</td><td>51.55526</td><td>-0.13072</td><td>&quot;S&quot;</td><td>&quot;HTL&quot;</td><td>&quot;GB&quot;</td><td>null</td><td>&quot;ENG&quot;</td><td>&quot;GLA&quot;</td><td>&quot;G3&quot;</td><td>null</td><td>0</td><td>null</td><td>44</td><td>&quot;Europe/London&quot;</td><td>2011-01-31 00:00:00</td></tr><tr><td>9951999</td><td>&quot;Five Kings Hotel&quot;</td><td>&quot;Five Kings Hotel&quot;</td><td>null</td><td>51.555279</td><td>-0.13074</td><td>&quot;S&quot;</td><td>&quot;HTL&quot;</td><td>&quot;GB&quot;</td><td>null</td><td>&quot;ENG&quot;</td><td>&quot;GLA&quot;</td><td>&quot;G3&quot;</td><td>null</td><td>0</td><td>null</td><td>44</td><td>&quot;Europe/London&quot;</td><td>2015-01-10 00:00:00</td></tr><tr><td>9952020</td><td>&quot;Corner House Hotel Y Anexo&quot;</td><td>&quot;Corner House Hotel Y Anexo&quot;</td><td>null</td><td>51.549252</td><td>-0.12864</td><td>&quot;S&quot;</td><td>&quot;HTL&quot;</td><td>&quot;GB&quot;</td><td>null</td><td>&quot;ENG&quot;</td><td>&quot;GLA&quot;</td><td>&quot;G3&quot;</td><td>null</td><td>0</td><td>null</td><td>51</td><td>&quot;Europe/London&quot;</td><td>2015-01-10 00:00:00</td></tr><tr><td>10238344</td><td>&quot;Five Kings - Hsd&quot;</td><td>&quot;Five Kings - Hsd&quot;</td><td>null</td><td>51.554981</td><td>-0.13261</td><td>&quot;S&quot;</td><td>&quot;HTL&quot;</td><td>&quot;GB&quot;</td><td>null</td><td>&quot;ENG&quot;</td><td>&quot;GLA&quot;</td><td>&quot;G3&quot;</td><td>null</td><td>0</td><td>null</td><td>44</td><td>&quot;Europe/London&quot;</td><td>2015-04-28 00:00:00</td></tr><tr><td>12048278</td><td>&quot;Cantelowes&quot;</td><td>&quot;Cantelowes&quot;</td><td>null</td><td>51.545052</td><td>-0.1337</td><td>&quot;P&quot;</td><td>&quot;PPLX&quot;</td><td>&quot;GB&quot;</td><td>null</td><td>&quot;ENG&quot;</td><td>&quot;GLA&quot;</td><td>&quot;C4&quot;</td><td>null</td><td>0</td><td>null</td><td>40</td><td>&quot;Europe/London&quot;</td><td>2019-06-07 00:00:00</td></tr></tbody></table></div>"
      ],
      "text/plain": [
       "shape: (10, 19)\n",
       "┌───────────┬────────────┬────────────┬────────────┬───┬───────────┬─────┬────────────┬────────────┐\n",
       "│ geonameid ┆ name       ┆ asciiname  ┆ alternaten ┆ … ┆ elevation ┆ dem ┆ timezone   ┆ modificati │\n",
       "│ ---       ┆ ---        ┆ ---        ┆ ames       ┆   ┆ ---       ┆ --- ┆ ---        ┆ on_date    │\n",
       "│ u32       ┆ str        ┆ str        ┆ ---        ┆   ┆ i32       ┆ i32 ┆ str        ┆ ---        │\n",
       "│           ┆            ┆            ┆ str        ┆   ┆           ┆     ┆            ┆ datetime[μ │\n",
       "│           ┆            ┆            ┆            ┆   ┆           ┆     ┆            ┆ s]         │\n",
       "╞═══════════╪════════════╪════════════╪════════════╪═══╪═══════════╪═════╪════════════╪════════════╡\n",
       "│ 6493096   ┆ Queens     ┆ Queens     ┆ null       ┆ … ┆ null      ┆ 45  ┆ Europe/Lon ┆ 2010-05-24 │\n",
       "│           ┆ Hotel      ┆ Hotel      ┆            ┆   ┆           ┆     ┆ don        ┆ 00:00:00   │\n",
       "│ 6690587   ┆ Kentish    ┆ Kentish    ┆ کینٹش ٹاؤن ┆ … ┆ null      ┆ 40  ┆ Europe/Lon ┆ 2011-03-03 │\n",
       "│           ┆ Town       ┆ Town       ┆            ┆   ┆           ┆     ┆ don        ┆ 00:00:00   │\n",
       "│ 6943739   ┆ The Corner ┆ The Corner ┆ null       ┆ … ┆ null      ┆ 51  ┆ Europe/Lon ┆ 2010-05-25 │\n",
       "│           ┆ House      ┆ House      ┆            ┆   ┆           ┆     ┆ don        ┆ 00:00:00   │\n",
       "│           ┆ Hotel      ┆ Hotel      ┆            ┆   ┆           ┆     ┆            ┆            │\n",
       "│ 6952900   ┆ Kentish    ┆ Kentish    ┆ Bahnhof    ┆ … ┆ null      ┆ 37  ┆ Europe/Lon ┆ 2010-05-25 │\n",
       "│           ┆ Town       ┆ Town       ┆ Kentish    ┆   ┆           ┆     ┆ don        ┆ 00:00:00   │\n",
       "│           ┆ Station    ┆ Station    ┆ Town,KTN,K ┆   ┆           ┆     ┆            ┆            │\n",
       "│           ┆            ┆            ┆ enti…      ┆   ┆           ┆     ┆            ┆            │\n",
       "│ 6954729   ┆ Kentish    ┆ Kentish    ┆ null       ┆ … ┆ null      ┆ 38  ┆ Europe/Lon ┆ 2010-05-25 │\n",
       "│           ┆ Town Under ┆ Town Under ┆            ┆   ┆           ┆     ┆ don        ┆ 00:00:00   │\n",
       "│           ┆ ground     ┆ ground     ┆            ┆   ┆           ┆     ┆            ┆            │\n",
       "│           ┆ Stati…     ┆ Stati…     ┆            ┆   ┆           ┆     ┆            ┆            │\n",
       "│ 7648321   ┆ Charlies   ┆ Charlies   ┆ null       ┆ … ┆ null      ┆ 44  ┆ Europe/Lon ┆ 2011-01-31 │\n",
       "│           ┆ Hotel      ┆ Hotel      ┆            ┆   ┆           ┆     ┆ don        ┆ 00:00:00   │\n",
       "│ 9951999   ┆ Five Kings ┆ Five Kings ┆ null       ┆ … ┆ null      ┆ 44  ┆ Europe/Lon ┆ 2015-01-10 │\n",
       "│           ┆ Hotel      ┆ Hotel      ┆            ┆   ┆           ┆     ┆ don        ┆ 00:00:00   │\n",
       "│ 9952020   ┆ Corner     ┆ Corner     ┆ null       ┆ … ┆ null      ┆ 51  ┆ Europe/Lon ┆ 2015-01-10 │\n",
       "│           ┆ House      ┆ House      ┆            ┆   ┆           ┆     ┆ don        ┆ 00:00:00   │\n",
       "│           ┆ Hotel Y    ┆ Hotel Y    ┆            ┆   ┆           ┆     ┆            ┆            │\n",
       "│           ┆ Anexo      ┆ Anexo      ┆            ┆   ┆           ┆     ┆            ┆            │\n",
       "│ 10238344  ┆ Five Kings ┆ Five Kings ┆ null       ┆ … ┆ null      ┆ 44  ┆ Europe/Lon ┆ 2015-04-28 │\n",
       "│           ┆ - Hsd      ┆ - Hsd      ┆            ┆   ┆           ┆     ┆ don        ┆ 00:00:00   │\n",
       "│ 12048278  ┆ Cantelowes ┆ Cantelowes ┆ null       ┆ … ┆ null      ┆ 40  ┆ Europe/Lon ┆ 2019-06-07 │\n",
       "│           ┆            ┆            ┆            ┆   ┆           ┆     ┆ don        ┆ 00:00:00   │\n",
       "└───────────┴────────────┴────────────┴────────────┴───┴───────────┴─────┴────────────┴────────────┘"
      ]
     },
     "execution_count": 16,
     "metadata": {},
     "output_type": "execute_result"
    }
   ],
   "source": [
    "output1: Matches = index1.search(\n",
    "    vectors=my_coordinates1, count=10, exact=True, log=True\n",
    ")\n",
    "df.filter(pl.col(\"geonameid\").is_in(output1.keys))"
   ]
  },
  {
   "cell_type": "code",
   "execution_count": 17,
   "metadata": {},
   "outputs": [
    {
     "name": "stderr",
     "output_type": "stream",
     "text": [
      "Search: 100%|██████████| 1/1 [00:01<00:00,  1.28s/vector]\n"
     ]
    },
    {
     "data": {
      "text/html": [
       "<div><style>\n",
       ".dataframe > thead > tr,\n",
       ".dataframe > tbody > tr {\n",
       "  text-align: right;\n",
       "  white-space: pre-wrap;\n",
       "}\n",
       "</style>\n",
       "<small>shape: (10, 19)</small><table border=\"1\" class=\"dataframe\"><thead><tr><th>geonameid</th><th>name</th><th>asciiname</th><th>alternatenames</th><th>latitude</th><th>longitude</th><th>feature_class</th><th>feature_code</th><th>country_code</th><th>cc2</th><th>admin1_code</th><th>admin2_code</th><th>admin3_code</th><th>admin4_code</th><th>population</th><th>elevation</th><th>dem</th><th>timezone</th><th>modification_date</th></tr><tr><td>u32</td><td>str</td><td>str</td><td>str</td><td>f32</td><td>f32</td><td>str</td><td>str</td><td>str</td><td>str</td><td>str</td><td>str</td><td>str</td><td>str</td><td>i64</td><td>i32</td><td>i32</td><td>str</td><td>datetime[μs]</td></tr></thead><tbody><tr><td>6493096</td><td>&quot;Queens Hotel&quot;</td><td>&quot;Queens Hotel&quot;</td><td>null</td><td>51.554901</td><td>-0.132</td><td>&quot;S&quot;</td><td>&quot;HTL&quot;</td><td>&quot;GB&quot;</td><td>null</td><td>&quot;ENG&quot;</td><td>&quot;GLA&quot;</td><td>&quot;G3&quot;</td><td>null</td><td>0</td><td>null</td><td>45</td><td>&quot;Europe/London&quot;</td><td>2010-05-24 00:00:00</td></tr><tr><td>6690587</td><td>&quot;Kentish Town&quot;</td><td>&quot;Kentish Town&quot;</td><td>&quot;کینٹش ٹاؤن&quot;</td><td>51.551682</td><td>-0.14125</td><td>&quot;P&quot;</td><td>&quot;PPL&quot;</td><td>&quot;GB&quot;</td><td>null</td><td>&quot;ENG&quot;</td><td>&quot;GLA&quot;</td><td>&quot;C4&quot;</td><td>null</td><td>0</td><td>null</td><td>40</td><td>&quot;Europe/London&quot;</td><td>2011-03-03 00:00:00</td></tr><tr><td>6943739</td><td>&quot;The Corner House Hotel&quot;</td><td>&quot;The Corner House Hotel&quot;</td><td>null</td><td>51.5485</td><td>-0.13006</td><td>&quot;S&quot;</td><td>&quot;HTL&quot;</td><td>&quot;GB&quot;</td><td>null</td><td>&quot;ENG&quot;</td><td>&quot;GLA&quot;</td><td>&quot;C4&quot;</td><td>null</td><td>0</td><td>null</td><td>51</td><td>&quot;Europe/London&quot;</td><td>2010-05-25 00:00:00</td></tr><tr><td>6952900</td><td>&quot;Kentish Town Station&quot;</td><td>&quot;Kentish Town Station&quot;</td><td>&quot;Bahnhof Kentish Town,KTN,Kenti…</td><td>51.550831</td><td>-0.14083</td><td>&quot;S&quot;</td><td>&quot;RSTN&quot;</td><td>&quot;GB&quot;</td><td>null</td><td>&quot;ENG&quot;</td><td>&quot;GLA&quot;</td><td>&quot;C4&quot;</td><td>null</td><td>0</td><td>null</td><td>37</td><td>&quot;Europe/London&quot;</td><td>2010-05-25 00:00:00</td></tr><tr><td>6954729</td><td>&quot;Kentish Town Underground Stati…</td><td>&quot;Kentish Town Underground Stati…</td><td>null</td><td>51.55032</td><td>-0.13919</td><td>&quot;S&quot;</td><td>&quot;MTRO&quot;</td><td>&quot;GB&quot;</td><td>null</td><td>&quot;ENG&quot;</td><td>&quot;GLA&quot;</td><td>&quot;C4&quot;</td><td>null</td><td>0</td><td>null</td><td>38</td><td>&quot;Europe/London&quot;</td><td>2010-05-25 00:00:00</td></tr><tr><td>7648321</td><td>&quot;Charlies Hotel&quot;</td><td>&quot;Charlies Hotel&quot;</td><td>null</td><td>51.55526</td><td>-0.13072</td><td>&quot;S&quot;</td><td>&quot;HTL&quot;</td><td>&quot;GB&quot;</td><td>null</td><td>&quot;ENG&quot;</td><td>&quot;GLA&quot;</td><td>&quot;G3&quot;</td><td>null</td><td>0</td><td>null</td><td>44</td><td>&quot;Europe/London&quot;</td><td>2011-01-31 00:00:00</td></tr><tr><td>9951999</td><td>&quot;Five Kings Hotel&quot;</td><td>&quot;Five Kings Hotel&quot;</td><td>null</td><td>51.555279</td><td>-0.13074</td><td>&quot;S&quot;</td><td>&quot;HTL&quot;</td><td>&quot;GB&quot;</td><td>null</td><td>&quot;ENG&quot;</td><td>&quot;GLA&quot;</td><td>&quot;G3&quot;</td><td>null</td><td>0</td><td>null</td><td>44</td><td>&quot;Europe/London&quot;</td><td>2015-01-10 00:00:00</td></tr><tr><td>9952020</td><td>&quot;Corner House Hotel Y Anexo&quot;</td><td>&quot;Corner House Hotel Y Anexo&quot;</td><td>null</td><td>51.549252</td><td>-0.12864</td><td>&quot;S&quot;</td><td>&quot;HTL&quot;</td><td>&quot;GB&quot;</td><td>null</td><td>&quot;ENG&quot;</td><td>&quot;GLA&quot;</td><td>&quot;G3&quot;</td><td>null</td><td>0</td><td>null</td><td>51</td><td>&quot;Europe/London&quot;</td><td>2015-01-10 00:00:00</td></tr><tr><td>10238344</td><td>&quot;Five Kings - Hsd&quot;</td><td>&quot;Five Kings - Hsd&quot;</td><td>null</td><td>51.554981</td><td>-0.13261</td><td>&quot;S&quot;</td><td>&quot;HTL&quot;</td><td>&quot;GB&quot;</td><td>null</td><td>&quot;ENG&quot;</td><td>&quot;GLA&quot;</td><td>&quot;G3&quot;</td><td>null</td><td>0</td><td>null</td><td>44</td><td>&quot;Europe/London&quot;</td><td>2015-04-28 00:00:00</td></tr><tr><td>12048278</td><td>&quot;Cantelowes&quot;</td><td>&quot;Cantelowes&quot;</td><td>null</td><td>51.545052</td><td>-0.1337</td><td>&quot;P&quot;</td><td>&quot;PPLX&quot;</td><td>&quot;GB&quot;</td><td>null</td><td>&quot;ENG&quot;</td><td>&quot;GLA&quot;</td><td>&quot;C4&quot;</td><td>null</td><td>0</td><td>null</td><td>40</td><td>&quot;Europe/London&quot;</td><td>2019-06-07 00:00:00</td></tr></tbody></table></div>"
      ],
      "text/plain": [
       "shape: (10, 19)\n",
       "┌───────────┬────────────┬────────────┬────────────┬───┬───────────┬─────┬────────────┬────────────┐\n",
       "│ geonameid ┆ name       ┆ asciiname  ┆ alternaten ┆ … ┆ elevation ┆ dem ┆ timezone   ┆ modificati │\n",
       "│ ---       ┆ ---        ┆ ---        ┆ ames       ┆   ┆ ---       ┆ --- ┆ ---        ┆ on_date    │\n",
       "│ u32       ┆ str        ┆ str        ┆ ---        ┆   ┆ i32       ┆ i32 ┆ str        ┆ ---        │\n",
       "│           ┆            ┆            ┆ str        ┆   ┆           ┆     ┆            ┆ datetime[μ │\n",
       "│           ┆            ┆            ┆            ┆   ┆           ┆     ┆            ┆ s]         │\n",
       "╞═══════════╪════════════╪════════════╪════════════╪═══╪═══════════╪═════╪════════════╪════════════╡\n",
       "│ 6493096   ┆ Queens     ┆ Queens     ┆ null       ┆ … ┆ null      ┆ 45  ┆ Europe/Lon ┆ 2010-05-24 │\n",
       "│           ┆ Hotel      ┆ Hotel      ┆            ┆   ┆           ┆     ┆ don        ┆ 00:00:00   │\n",
       "│ 6690587   ┆ Kentish    ┆ Kentish    ┆ کینٹش ٹاؤن ┆ … ┆ null      ┆ 40  ┆ Europe/Lon ┆ 2011-03-03 │\n",
       "│           ┆ Town       ┆ Town       ┆            ┆   ┆           ┆     ┆ don        ┆ 00:00:00   │\n",
       "│ 6943739   ┆ The Corner ┆ The Corner ┆ null       ┆ … ┆ null      ┆ 51  ┆ Europe/Lon ┆ 2010-05-25 │\n",
       "│           ┆ House      ┆ House      ┆            ┆   ┆           ┆     ┆ don        ┆ 00:00:00   │\n",
       "│           ┆ Hotel      ┆ Hotel      ┆            ┆   ┆           ┆     ┆            ┆            │\n",
       "│ 6952900   ┆ Kentish    ┆ Kentish    ┆ Bahnhof    ┆ … ┆ null      ┆ 37  ┆ Europe/Lon ┆ 2010-05-25 │\n",
       "│           ┆ Town       ┆ Town       ┆ Kentish    ┆   ┆           ┆     ┆ don        ┆ 00:00:00   │\n",
       "│           ┆ Station    ┆ Station    ┆ Town,KTN,K ┆   ┆           ┆     ┆            ┆            │\n",
       "│           ┆            ┆            ┆ enti…      ┆   ┆           ┆     ┆            ┆            │\n",
       "│ 6954729   ┆ Kentish    ┆ Kentish    ┆ null       ┆ … ┆ null      ┆ 38  ┆ Europe/Lon ┆ 2010-05-25 │\n",
       "│           ┆ Town Under ┆ Town Under ┆            ┆   ┆           ┆     ┆ don        ┆ 00:00:00   │\n",
       "│           ┆ ground     ┆ ground     ┆            ┆   ┆           ┆     ┆            ┆            │\n",
       "│           ┆ Stati…     ┆ Stati…     ┆            ┆   ┆           ┆     ┆            ┆            │\n",
       "│ 7648321   ┆ Charlies   ┆ Charlies   ┆ null       ┆ … ┆ null      ┆ 44  ┆ Europe/Lon ┆ 2011-01-31 │\n",
       "│           ┆ Hotel      ┆ Hotel      ┆            ┆   ┆           ┆     ┆ don        ┆ 00:00:00   │\n",
       "│ 9951999   ┆ Five Kings ┆ Five Kings ┆ null       ┆ … ┆ null      ┆ 44  ┆ Europe/Lon ┆ 2015-01-10 │\n",
       "│           ┆ Hotel      ┆ Hotel      ┆            ┆   ┆           ┆     ┆ don        ┆ 00:00:00   │\n",
       "│ 9952020   ┆ Corner     ┆ Corner     ┆ null       ┆ … ┆ null      ┆ 51  ┆ Europe/Lon ┆ 2015-01-10 │\n",
       "│           ┆ House      ┆ House      ┆            ┆   ┆           ┆     ┆ don        ┆ 00:00:00   │\n",
       "│           ┆ Hotel Y    ┆ Hotel Y    ┆            ┆   ┆           ┆     ┆            ┆            │\n",
       "│           ┆ Anexo      ┆ Anexo      ┆            ┆   ┆           ┆     ┆            ┆            │\n",
       "│ 10238344  ┆ Five Kings ┆ Five Kings ┆ null       ┆ … ┆ null      ┆ 44  ┆ Europe/Lon ┆ 2015-04-28 │\n",
       "│           ┆ - Hsd      ┆ - Hsd      ┆            ┆   ┆           ┆     ┆ don        ┆ 00:00:00   │\n",
       "│ 12048278  ┆ Cantelowes ┆ Cantelowes ┆ null       ┆ … ┆ null      ┆ 40  ┆ Europe/Lon ┆ 2019-06-07 │\n",
       "│           ┆            ┆            ┆            ┆   ┆           ┆     ┆ don        ┆ 00:00:00   │\n",
       "└───────────┴────────────┴────────────┴────────────┴───┴───────────┴─────┴────────────┴────────────┘"
      ]
     },
     "execution_count": 17,
     "metadata": {},
     "output_type": "execute_result"
    }
   ],
   "source": [
    "output2: Matches = index2.search(\n",
    "    vectors=my_coordinates1, count=10, exact=True, log=True\n",
    ")\n",
    "df.filter(pl.col(\"geonameid\").is_in(output2.keys))"
   ]
  }
 ],
 "metadata": {
  "kernelspec": {
   "display_name": "side-letters-env",
   "language": "python",
   "name": "python3"
  },
  "language_info": {
   "codemirror_mode": {
    "name": "ipython",
    "version": 3
   },
   "file_extension": ".py",
   "mimetype": "text/x-python",
   "name": "python",
   "nbconvert_exporter": "python",
   "pygments_lexer": "ipython3",
   "version": "3.11.9"
  }
 },
 "nbformat": 4,
 "nbformat_minor": 2
}
